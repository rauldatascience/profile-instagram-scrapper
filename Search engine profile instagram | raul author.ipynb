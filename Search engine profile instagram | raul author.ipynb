{
 "cells": [
  {
   "cell_type": "code",
   "execution_count": 6,
   "metadata": {},
   "outputs": [],
   "source": [
    "# Packages \n",
    "from bs4 import BeautifulSoup\n",
    "import requests"
   ]
  },
  {
   "cell_type": "code",
   "execution_count": 7,
   "metadata": {},
   "outputs": [],
   "source": [
    "# Format URL untuk mining\n",
    "URL = \"https://www.instagram.com/{}/\""
   ]
  },
  {
   "cell_type": "code",
   "execution_count": 8,
   "metadata": {},
   "outputs": [],
   "source": [
    "# Function 1\n",
    "def parse_data(s):\n",
    "    data = {}\n",
    "    s = s.split(\"-\")[0]\n",
    "    s = s.split(\" \")\n",
    "    data[\"Followers\"] = s[0]\n",
    "    data[\"Following\"] = s[2]\n",
    "    data[\"Posts\"] = s[4]\n",
    "    return data"
   ]
  },
  {
   "cell_type": "code",
   "execution_count": 9,
   "metadata": {},
   "outputs": [],
   "source": [
    "# Function 2\n",
    "def scrape_data(username):\n",
    "    r = requests.get(URL.format(username))\n",
    "    s = BeautifulSoup(r.text, \"html.parser\")\n",
    "    meta = s.find(\"meta\", property = \"og:description\")\n",
    "    return parse_data(meta.attrs[\"content\"])"
   ]
  },
  {
   "cell_type": "code",
   "execution_count": 11,
   "metadata": {},
   "outputs": [
    {
     "name": "stdout",
     "output_type": "stream",
     "text": [
      "teamalgoritma has 24.1k Followers\n",
      "teamalgoritma has 24 Following\n",
      "teamalgoritma has 496 Post\n"
     ]
    }
   ],
   "source": [
    "# testing code\n",
    "\n",
    "username = \"teamalgoritma\"\n",
    "data = scrape_data(username)\n",
    "print(username,\"has\",data[\"Followers\"], \"Followers\")\n",
    "print(username,\"has\",data[\"Following\"], \"Following\")\n",
    "print(username,\"has\",data[\"Posts\"], \"Post\")"
   ]
  },
  {
   "cell_type": "code",
   "execution_count": null,
   "metadata": {},
   "outputs": [],
   "source": []
  },
  {
   "cell_type": "code",
   "execution_count": null,
   "metadata": {},
   "outputs": [],
   "source": []
  }
 ],
 "metadata": {
  "kernelspec": {
   "display_name": "Python 3",
   "language": "python",
   "name": "python3"
  },
  "language_info": {
   "codemirror_mode": {
    "name": "ipython",
    "version": 3
   },
   "file_extension": ".py",
   "mimetype": "text/x-python",
   "name": "python",
   "nbconvert_exporter": "python",
   "pygments_lexer": "ipython3",
   "version": "3.7.6"
  }
 },
 "nbformat": 4,
 "nbformat_minor": 4
}
